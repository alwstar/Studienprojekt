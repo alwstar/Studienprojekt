{
 "cells": [
  {
   "cell_type": "code",
   "execution_count": 4,
   "id": "7cc98160",
   "metadata": {},
   "outputs": [
    {
     "name": "stdout",
     "output_type": "stream",
     "text": [
      "      ID       Date Company Type        Open        High         Low  \\\n",
      "246  246 2023-06-26    AAPL  ACT  186.830002  188.050003  185.229996   \n",
      "247  247 2023-06-27    AAPL  ACT  185.889999  188.389999  185.669998   \n",
      "248  248 2023-06-28    AAPL  ACT  187.929993  189.899994  187.600006   \n",
      "249  249 2023-06-29    AAPL  ACT  189.080002  190.070007  188.940002   \n",
      "250  250 2023-06-30    AAPL  ACT  191.630005  194.479996  191.259995   \n",
      "\n",
      "          Close    Volume  \n",
      "246  185.270004  48088700  \n",
      "247  188.059998  50730800  \n",
      "248  189.250000  51216800  \n",
      "249  189.589996  46347300  \n",
      "250  193.970001  85069600  \n"
     ]
    }
   ],
   "source": [
    "import pyodbc\n",
    "import yfinance as yf\n",
    "import pandas as pd\n",
    "from sqlalchemy import create_engine\n",
    "import datetime\n",
    "from datetime import date, timedelta\n",
    "\n",
    "# Verbindungsstring\n",
    "conn_str = (\n",
    "    r'Driver=SQL Server;'\n",
    "    r'Server=.\\SQLEXPRESS;'\n",
    "    r'Database=studienprojekt;'\n",
    "    r'Trusted_Connection=yes;'\n",
    ")\n",
    "\n",
    "# Verbindung zur Datenbank herstellen\n",
    "cnxn = pyodbc.connect(conn_str)\n",
    "\n",
    "# SQLAlchemy connectable erstellen\n",
    "engine = create_engine('mssql+pyodbc://', creator=lambda: cnxn)\n",
    "\n",
    "# Tabelle prüfen\n",
    "table_name = \"stock_data\"  # Name der Zieltabelle\n",
    "start_date = \"2022-07-01\"  # Startdatum, ab dem Daten überprüft werden sollen\n",
    "end_date = \"2023-07-01\"  # Enddatum, bis zu dem Daten überprüft werden sollen\n",
    "\n",
    "# Daten aus der Tabelle in einen DataFrame laden\n",
    "select_query = f\"SELECT * FROM {table_name} WHERE date >= ? AND date <= ?\"\n",
    "data = pd.read_sql(select_query, con=engine, params=(start_date, end_date))\n",
    "\n",
    "# added\n",
    "data[\"ID\"] = data.index\n",
    "data = data[[\"ID\", \"Date\", \"Company\", \"Type\", \"Open\", \"High\", \"Low\", \"Close\", \"Volume\"]]\n",
    "data.reset_index(drop=True, inplace=True)\n",
    "\n",
    "# Verbindung schließen\n",
    "cnxn.close()\n",
    "\n",
    "# DataFrame anzeigen\n",
    "print(data.tail())"
   ]
  },
  {
   "cell_type": "code",
   "execution_count": null,
   "id": "9708a1e9",
   "metadata": {},
   "outputs": [],
   "source": []
  },
  {
   "cell_type": "code",
   "execution_count": null,
   "id": "22266eb9",
   "metadata": {},
   "outputs": [],
   "source": []
  }
 ],
 "metadata": {
  "kernelspec": {
   "display_name": "Python 3 (ipykernel)",
   "language": "python",
   "name": "python3"
  },
  "language_info": {
   "codemirror_mode": {
    "name": "ipython",
    "version": 3
   },
   "file_extension": ".py",
   "mimetype": "text/x-python",
   "name": "python",
   "nbconvert_exporter": "python",
   "pygments_lexer": "ipython3",
   "version": "3.10.11"
  }
 },
 "nbformat": 4,
 "nbformat_minor": 5
}
