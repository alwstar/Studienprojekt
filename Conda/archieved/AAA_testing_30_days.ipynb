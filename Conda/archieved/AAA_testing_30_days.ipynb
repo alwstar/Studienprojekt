{
 "cells": [
  {
   "cell_type": "code",
   "execution_count": 1,
   "id": "3f082116",
   "metadata": {},
   "outputs": [],
   "source": [
    "import os\n",
    "import warnings\n",
    "warnings.filterwarnings('ignore')\n",
    "import numpy as np\n",
    "import pandas as pd\n",
    "import matplotlib.pyplot as plt\n",
    "from statsmodels.tsa.stattools import adfuller\n",
    "from statsmodels.tsa.seasonal import seasonal_decompose\n",
    "from statsmodels.tsa.arima_model import ARIMA\n",
    "from pmdarima.arima import auto_arima\n",
    "from sklearn.metrics import mean_squared_error, mean_absolute_error\n",
    "import math\n"
   ]
  },
  {
   "cell_type": "code",
   "execution_count": 2,
   "id": "409e6295",
   "metadata": {},
   "outputs": [
    {
     "ename": "ModuleNotFoundError",
     "evalue": "No module named 'yfinance'",
     "output_type": "error",
     "traceback": [
      "\u001b[1;31m---------------------------------------------------------------------------\u001b[0m",
      "\u001b[1;31mModuleNotFoundError\u001b[0m                       Traceback (most recent call last)",
      "Cell \u001b[1;32mIn[2], line 2\u001b[0m\n\u001b[0;32m      1\u001b[0m \u001b[38;5;28;01mimport\u001b[39;00m \u001b[38;5;21;01mpyodbc\u001b[39;00m\n\u001b[1;32m----> 2\u001b[0m \u001b[38;5;28;01mimport\u001b[39;00m \u001b[38;5;21;01myfinance\u001b[39;00m \u001b[38;5;28;01mas\u001b[39;00m \u001b[38;5;21;01myf\u001b[39;00m\n\u001b[0;32m      3\u001b[0m \u001b[38;5;28;01mimport\u001b[39;00m \u001b[38;5;21;01mpandas\u001b[39;00m \u001b[38;5;28;01mas\u001b[39;00m \u001b[38;5;21;01mpd\u001b[39;00m\n\u001b[0;32m      4\u001b[0m \u001b[38;5;28;01mfrom\u001b[39;00m \u001b[38;5;21;01msqlalchemy\u001b[39;00m \u001b[38;5;28;01mimport\u001b[39;00m create_engine\n",
      "\u001b[1;31mModuleNotFoundError\u001b[0m: No module named 'yfinance'"
     ]
    }
   ],
   "source": [
    "import pyodbc\n",
    "import yfinance as yf\n",
    "import pandas as pd\n",
    "from sqlalchemy import create_engine\n",
    "\n",
    "# Verbindungsstring\n",
    "conn_str = (\n",
    "    r'Driver=SQL Server;'\n",
    "    r'Server=.\\SQLEXPRESS;'\n",
    "    r'Database=studienprojekt;'\n",
    "    r'Trusted_Connection=yes;'\n",
    ")\n",
    "\n",
    "# Verbindung zur Datenbank herstellen\n",
    "cnxn = pyodbc.connect(conn_str)\n",
    "\n",
    "# SQLAlchemy connectable erstellen\n",
    "engine = create_engine('mssql+pyodbc://', creator=lambda: cnxn)\n",
    "\n",
    "# Tabelle prüfen\n",
    "table_name = \"stock_data\"  # Name der Zieltabelle\n",
    "start_date = \"2016-01-01\"  # Startdatum, ab dem Daten überprüft werden sollen\n",
    "end_date = \"2023-06-01\"  # Enddatum, bis zu dem Daten überprüft werden sollen\n",
    "\n",
    "# Daten aus der Tabelle in einen DataFrame laden\n",
    "select_query = f\"SELECT * FROM {table_name} WHERE timestamp >= ? AND timestamp <= ?\"\n",
    "df = pd.read_sql(select_query, con=engine, params=(start_date, end_date))\n",
    "\n",
    "# Verbindung schließen\n",
    "cnxn.close()\n",
    "\n",
    "# DataFrame anzeigen\n",
    "print(df.head())"
   ]
  },
  {
   "cell_type": "code",
   "execution_count": null,
   "id": "9f52463f",
   "metadata": {},
   "outputs": [],
   "source": [
    "#Distribution of the dataset\n",
    "df_close = df['close']\n",
    "df_close.plot(kind='kde')"
   ]
  },
  {
   "cell_type": "code",
   "execution_count": null,
   "id": "0dcec51d",
   "metadata": {},
   "outputs": [],
   "source": [
    "#Test for staionarity\n",
    "def test_stationarity(timeseries):\n",
    "    #Determing rolling statistics\n",
    "    rolmean = timeseries.rolling(12).mean()\n",
    "    rolstd = timeseries.rolling(12).std()\n",
    "    #Plot rolling statistics:\n",
    "    plt.plot(timeseries, color='blue',label='Original')\n",
    "    plt.plot(rolmean, color='red', label='Rolling Mean')\n",
    "    plt.plot(rolstd, color='black', label = 'Rolling Std')\n",
    "    plt.legend(loc='best')\n",
    "    plt.title('Rolling Mean and Standard Deviation')\n",
    "    plt.show(block=False)\n",
    "    print(\"Results of dickey fuller test\")\n",
    "    adft = adfuller(timeseries,autolag='AIC')\n",
    "    # output for dft will give us without defining what the values are.\n",
    "    #hence we manually write what values does it explains using a for loop\n",
    "    output = pd.Series(adft[0:4],index=['Test Statistics','p-value','No. of lags used','Number of observations used'])\n",
    "    for key,values in adft[4].items():\n",
    "        output['critical value (%s)'%key] =  values\n",
    "    print(output)\n",
    "test_stationarity(df_close)"
   ]
  },
  {
   "cell_type": "code",
   "execution_count": null,
   "id": "0a132315",
   "metadata": {},
   "outputs": [],
   "source": [
    "#To separate the trend and the seasonality from a time series, \n",
    "# we can decompose the series using the following code.\n",
    "result = seasonal_decompose(df_close, model='multiplicative', period=30)\n",
    "fig = plt.figure()  \n",
    "fig = result.plot()  \n",
    "fig.set_size_inches(16, 9)"
   ]
  },
  {
   "cell_type": "code",
   "execution_count": null,
   "id": "9bd8892f",
   "metadata": {},
   "outputs": [],
   "source": [
    "#if not stationary then eliminate trend\n",
    "#Eliminate trend\n",
    "from pylab import rcParams\n",
    "rcParams['figure.figsize'] = 10, 6\n",
    "df_log = np.log(df_close)\n",
    "moving_avg = df_log.rolling(12).mean()\n",
    "std_dev = df_log.rolling(12).std()\n",
    "plt.legend(loc='best')\n",
    "plt.title('Moving Average')\n",
    "plt.plot(std_dev, color =\"black\", label = \"Standard Deviation\")\n",
    "plt.plot(moving_avg, color=\"red\", label = \"Mean\")\n",
    "plt.legend()\n",
    "plt.show()"
   ]
  },
  {
   "cell_type": "code",
   "execution_count": null,
   "id": "0eb7a9cf",
   "metadata": {},
   "outputs": [],
   "source": [
    "#split data into train and training set\n",
    "train_data, test_data = df_log[3:int(len(df_log)*0.9)], df_log[int(len(df_log)*0.9):]\n",
    "plt.figure(figsize=(10,6))\n",
    "plt.grid(True)\n",
    "plt.xlabel('Dates')\n",
    "plt.ylabel('Closing Prices')\n",
    "plt.plot(df_log, 'green', label='Train data')\n",
    "plt.plot(test_data, 'blue', label='Test data')\n",
    "plt.legend()"
   ]
  },
  {
   "cell_type": "code",
   "execution_count": null,
   "id": "acd0ab68",
   "metadata": {},
   "outputs": [],
   "source": [
    "model_autoARIMA = auto_arima(train_data, start_p=0, start_q=0,\n",
    "                      test='adf',       # use adftest to find optimal 'd'\n",
    "                      max_p=3, max_q=3, # maximum p and q\n",
    "                      m=1,              # frequency of series\n",
    "                      d=None,           # let model determine 'd'\n",
    "                      seasonal=False,   # No Seasonality\n",
    "                      start_P=0, \n",
    "                      D=0, \n",
    "                      trace=True,\n",
    "                      error_action='ignore',  \n",
    "                      suppress_warnings=True, \n",
    "                      stepwise=True)\n",
    "print(model_autoARIMA.summary())\n",
    "model_autoARIMA.plot_diagnostics(figsize=(15,8))\n",
    "plt.show()"
   ]
  },
  {
   "cell_type": "code",
   "execution_count": null,
   "id": "e52dd967",
   "metadata": {},
   "outputs": [],
   "source": [
    "# Import the necessary classes\n",
    "from statsmodels.tsa.arima.model import ARIMA\n",
    "from statsmodels.tsa.statespace.sarimax import SARIMAX\n",
    "\n",
    "# Build Model\n",
    "model = SARIMAX(train_data, order=(1, 1, 0))\n",
    "fitted = model.fit(disp=-1)\n",
    "print(fitted.summary())\n"
   ]
  },
  {
   "cell_type": "code",
   "execution_count": null,
   "id": "9e3335a0",
   "metadata": {},
   "outputs": [],
   "source": [
    "# Forecast\n",
    "fc = fitted.forecast(321, alpha=0.05)  # 95% conf\n",
    "\n",
    "# Make as pandas series\n",
    "fc_series = pd.Series(fc, index=test_data.index)\n",
    "#lower_series = pd.Series(conf[:, 0], index=test_data.index)\n",
    "#upper_series = pd.Series(conf[:, 1], index=test_data.index)\n",
    "# Plot\n",
    "plt.figure(figsize=(10,5), dpi=100)\n",
    "plt.plot(train_data, label='training data')\n",
    "plt.plot(test_data, color = 'blue', label='Actual Stock Price')\n",
    "plt.plot(fc_series, color = 'orange',label='Predicted Stock Price')\n",
    "#plt.fill_between(lower_series.index, lower_series, upper_series, \n",
    "##                 color='k', alpha=.10)\n",
    "plt.title('ARCH CAPITAL GROUP Stock Price Prediction')\n",
    "plt.xlabel('Time')\n",
    "plt.ylabel('ARCH CAPITAL GROUP Stock Price')\n",
    "plt.legend(loc='upper left', fontsize=8)\n",
    "plt.show()"
   ]
  },
  {
   "cell_type": "code",
   "execution_count": null,
   "id": "39e63fe4",
   "metadata": {},
   "outputs": [],
   "source": [
    "# Forecast\n",
    "forecast_result = fitted.forecast(321, alpha=0.05)  # 95% conf\n",
    "fc = forecast_result[0]\n",
    "se = forecast_result[1]\n",
    "conf = forecast_result[2]\n",
    "\n",
    "# Create a new index\n",
    "forecast_index = pd.RangeIndex(start=test_data.index[-1]+1, stop=test_data.index[-1]+1+len(fc), step=1)\n",
    "\n",
    "# Make as pandas series\n",
    "fc_series = pd.Series(fc, index=forecast_index)\n",
    "lower_series = pd.Series(conf[:, 0], index=test_data.index)\n",
    "upper_series = pd.Series(conf[:, 1], index=test_data.index)\n",
    "# Plot\n",
    "plt.figure(figsize=(10,5), dpi=100)\n",
    "plt.plot(train_data, label='training data')\n",
    "plt.plot(test_data, color = 'blue', label='Actual Stock Price')\n",
    "plt.plot(fc_series, color = 'orange',label='Predicted Stock Price')\n",
    "plt.fill_between(lower_series.index, lower_series, upper_series, \n",
    "                 color='k', alpha=.10)\n",
    "plt.title('ARCH CAPITAL GROUP Stock Price Prediction')\n",
    "plt.xlabel('Time')\n",
    "plt.ylabel('ARCH CAPITAL GROUP Stock Price')\n",
    "plt.legend(loc='upper left', fontsize=8)\n",
    "plt.show()"
   ]
  },
  {
   "cell_type": "code",
   "execution_count": null,
   "id": "60b42d87",
   "metadata": {},
   "outputs": [],
   "source": [
    "# Forecast\n",
    "forecast_result = fitted.forecast(321, alpha=0.05)  # 95% conf\n",
    "fc = forecast_result[0]\n",
    "se = forecast_result[1]\n",
    "conf = forecast_result[2]"
   ]
  },
  {
   "cell_type": "code",
   "execution_count": null,
   "id": "88a2b56d",
   "metadata": {},
   "outputs": [],
   "source": []
  }
 ],
 "metadata": {
  "kernelspec": {
   "display_name": "Python 3 (ipykernel)",
   "language": "python",
   "name": "python3"
  },
  "language_info": {
   "codemirror_mode": {
    "name": "ipython",
    "version": 3
   },
   "file_extension": ".py",
   "mimetype": "text/x-python",
   "name": "python",
   "nbconvert_exporter": "python",
   "pygments_lexer": "ipython3",
   "version": "3.10.9"
  }
 },
 "nbformat": 4,
 "nbformat_minor": 5
}
