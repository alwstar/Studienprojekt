{
 "cells": [
  {
   "cell_type": "code",
   "execution_count": 2,
   "id": "b39b1ce1",
   "metadata": {},
   "outputs": [
    {
     "ename": "ModuleNotFoundError",
     "evalue": "No module named 'mpl_finance'",
     "output_type": "error",
     "traceback": [
      "\u001b[1;31m---------------------------------------------------------------------------\u001b[0m",
      "\u001b[1;31mModuleNotFoundError\u001b[0m                       Traceback (most recent call last)",
      "Cell \u001b[1;32mIn[2], line 3\u001b[0m\n\u001b[0;32m      1\u001b[0m \u001b[38;5;28;01mimport\u001b[39;00m \u001b[38;5;21;01mpandas\u001b[39;00m \u001b[38;5;28;01mas\u001b[39;00m \u001b[38;5;21;01mpd\u001b[39;00m\n\u001b[0;32m      2\u001b[0m \u001b[38;5;28;01mimport\u001b[39;00m \u001b[38;5;21;01mmatplotlib\u001b[39;00m\u001b[38;5;21;01m.\u001b[39;00m\u001b[38;5;21;01mpyplot\u001b[39;00m \u001b[38;5;28;01mas\u001b[39;00m \u001b[38;5;21;01mplt\u001b[39;00m\n\u001b[1;32m----> 3\u001b[0m \u001b[38;5;28;01mfrom\u001b[39;00m \u001b[38;5;21;01mmpl_finance\u001b[39;00m \u001b[38;5;28;01mimport\u001b[39;00m candlestick_ohlc\n\u001b[0;32m      4\u001b[0m \u001b[38;5;28;01mimport\u001b[39;00m \u001b[38;5;21;01mmatplotlib\u001b[39;00m\u001b[38;5;21;01m.\u001b[39;00m\u001b[38;5;21;01mdates\u001b[39;00m \u001b[38;5;28;01mas\u001b[39;00m \u001b[38;5;21;01mmdates\u001b[39;00m\n\u001b[0;32m      6\u001b[0m \u001b[38;5;66;03m# Beispiel-Datenframe erstellen\u001b[39;00m\n",
      "\u001b[1;31mModuleNotFoundError\u001b[0m: No module named 'mpl_finance'"
     ]
    }
   ],
   "source": [
    "import pandas as pd\n",
    "import matplotlib.pyplot as plt\n",
    "from mpl_finance import candlestick_ohlc\n",
    "import matplotlib.dates as mdates\n",
    "\n",
    "# Beispiel-Datenframe erstellen\n",
    "data = {'Date': ['2023-07-01', '2023-07-02', '2023-07-03', '2023-07-04', '2023-07-05'],\n",
    "        'Open': [100, 110, 105, 108, 103],\n",
    "        'High': [115, 120, 115, 112, 108],\n",
    "        'Low': [95, 100, 95, 100, 100],\n",
    "        'Close': [110, 105, 107, 102, 105]}\n",
    "\n",
    "df = pd.DataFrame(data)\n",
    "\n",
    "# Datetime-Objekte aus dem Datum erstellen\n",
    "df['Date'] = pd.to_datetime(df['Date'])\n",
    "df['Date'] = df['Date'].apply(mdates.date2num)\n",
    "\n",
    "# DataFrame plotten\n",
    "fig, ax = plt.subplots()\n",
    "candlestick_ohlc(ax, df.values, width=0.6, colorup='g', colordown='r')\n",
    "\n",
    "# Achsenbeschriftungen\n",
    "ax.xaxis.set_major_formatter(mdates.DateFormatter('%Y-%m-%d'))\n",
    "ax.xaxis.set_major_locator(mdates.DayLocator())\n",
    "plt.xlabel('Date')  # X-Achsenbeschriftung\n",
    "plt.ylabel('Price')  # Y-Achsenbeschriftung\n",
    "plt.title('Candlestick Chart')  # Titel des Plots\n",
    "plt.grid(True)  # Gitterlinien anzeigen\n",
    "plt.xticks(rotation=45)  # X-Achsentext drehen\n",
    "plt.show()  # Plot anzeigen\n"
   ]
  },
  {
   "cell_type": "code",
   "execution_count": null,
   "id": "e494e709",
   "metadata": {},
   "outputs": [],
   "source": []
  },
  {
   "cell_type": "code",
   "execution_count": null,
   "id": "54d3d2c8",
   "metadata": {},
   "outputs": [],
   "source": []
  }
 ],
 "metadata": {
  "kernelspec": {
   "display_name": "Python 3 (ipykernel)",
   "language": "python",
   "name": "python3"
  },
  "language_info": {
   "codemirror_mode": {
    "name": "ipython",
    "version": 3
   },
   "file_extension": ".py",
   "mimetype": "text/x-python",
   "name": "python",
   "nbconvert_exporter": "python",
   "pygments_lexer": "ipython3",
   "version": "3.10.11"
  }
 },
 "nbformat": 4,
 "nbformat_minor": 5
}
