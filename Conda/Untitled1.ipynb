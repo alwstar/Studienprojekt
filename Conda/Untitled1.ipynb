{
 "cells": [
  {
   "cell_type": "code",
   "execution_count": 1,
   "id": "ec614e4e",
   "metadata": {},
   "outputs": [],
   "source": [
    "import math\n",
    "import matplotlib.pyplot as plt\n",
    "import keras\n",
    "import pandas as pd\n",
    "import numpy as np\n",
    "from keras.models import Sequential\n",
    "from keras.layers import Dense\n",
    "from keras.layers import LSTM\n",
    "from keras.layers import Dropout\n",
    "from keras.layers import *\n",
    "from sklearn.preprocessing import MinMaxScaler\n",
    "from sklearn.metrics import mean_squared_error\n",
    "from sklearn.metrics import mean_absolute_error\n",
    "from sklearn.model_selection import train_test_split\n",
    "import yfinance as yf"
   ]
  },
  {
   "cell_type": "code",
   "execution_count": 5,
   "id": "fdb693b2",
   "metadata": {},
   "outputs": [
    {
     "name": "stdout",
     "output_type": "stream",
     "text": [
      "[*********************100%***********************]  1 of 1 completed\n"
     ]
    }
   ],
   "source": [
    "# Daten herunterladen und DataFrame erstellen\n",
    "gstock_data = yf.download('GOOG', start='2015-01-01', end='2020-07-01')"
   ]
  },
  {
   "cell_type": "code",
   "execution_count": 7,
   "id": "330b4cae",
   "metadata": {},
   "outputs": [
    {
     "name": "stdout",
     "output_type": "stream",
     "text": [
      "  Date       Date       Open       High        Low      Close  Adj Close  \\\n",
      "0    0 2015-01-02  26.378078  26.490770  26.133251  26.168653  26.168653   \n",
      "1    1 2015-01-05  26.091366  26.144720  25.582764  25.623152  25.623152   \n",
      "2    2 2015-01-06  25.679497  25.738087  24.983908  25.029282  25.029282   \n",
      "3    3 2015-01-07  25.280592  25.292759  24.914099  24.986401  24.986401   \n",
      "4    4 2015-01-08  24.831326  25.105074  24.482782  25.065184  25.065184   \n",
      "\n",
      "     Volume  \n",
      "0  28951268  \n",
      "1  41196796  \n",
      "2  57998800  \n",
      "3  41301082  \n",
      "4  67071641  \n"
     ]
    }
   ],
   "source": [
    "# Index zurücksetzen und \"Date\" als separate Spalte erstellen\n",
    "gstock_data.reset_index(inplace=True)\n",
    "\n",
    "# Spalte \"Date\" umbenennen\n",
    "gstock_data.rename(columns={'index': 'Date'}, inplace=True)\n",
    "\n",
    "# Überprüfen Sie das aktualisierte DataFrame\n",
    "print(gstock_data.head())\n"
   ]
  },
  {
   "cell_type": "code",
   "execution_count": 10,
   "id": "ec65d400",
   "metadata": {},
   "outputs": [],
   "source": [
    "from sklearn.preprocessing import MinMaxScaler\n",
    "import numpy as np\n",
    "\n",
    "# Wir nehmen an, dass gstock_data bereits definiert ist\n",
    "# numeric_columns enthält alle Spalten, die numerische Daten enthalten\n",
    "numeric_columns = gstock_data.select_dtypes(include=['float64', 'int64']).columns.tolist()\n",
    "\n",
    "# datetime_columns enthält alle Spalten, die Datum/Zeit-Daten enthalten\n",
    "datetime_columns = gstock_data.select_dtypes(include=['datetime64']).columns.tolist()\n",
    "\n",
    "# Entfernen Sie datetime_columns von numeric_columns\n",
    "for column in datetime_columns:\n",
    "    if column in numeric_columns:\n",
    "        numeric_columns.remove(column)\n",
    "\n",
    "# Initialisieren Sie den MinMaxScaler\n",
    "Ms = MinMaxScaler()\n",
    "\n",
    "# Skalieren Sie nur die numerischen Spalten\n",
    "gstock_data[numeric_columns] = Ms.fit_transform(gstock_data[numeric_columns])\n",
    "\n",
    "# Setzen Sie die Größe des Trainingssatzes auf 80% der Gesamtdatenmenge\n",
    "training_size = round(len(gstock_data) * 0.80)\n",
    "\n",
    "# Teilen Sie die Daten in Trainings- und Testdaten auf\n",
    "train_data = gstock_data[:training_size]\n",
    "test_data = gstock_data[training_size:]\n"
   ]
  },
  {
   "cell_type": "code",
   "execution_count": 11,
   "id": "5196b9a7",
   "metadata": {},
   "outputs": [
    {
     "ename": "NameError",
     "evalue": "name 'create_sequence' is not defined",
     "output_type": "error",
     "traceback": [
      "\u001b[1;31m---------------------------------------------------------------------------\u001b[0m",
      "\u001b[1;31mNameError\u001b[0m                                 Traceback (most recent call last)",
      "Cell \u001b[1;32mIn[11], line 1\u001b[0m\n\u001b[1;32m----> 1\u001b[0m train_seq, train_label \u001b[38;5;241m=\u001b[39m \u001b[43mcreate_sequence\u001b[49m(train_data)\n\u001b[0;32m      2\u001b[0m test_seq, test_label \u001b[38;5;241m=\u001b[39m create_sequence(test_data)\n",
      "\u001b[1;31mNameError\u001b[0m: name 'create_sequence' is not defined"
     ]
    }
   ],
   "source": [
    "train_seq, train_label = create_sequence(train_data)\n",
    "test_seq, test_label = create_sequence(test_data)"
   ]
  },
  {
   "cell_type": "code",
   "execution_count": null,
   "id": "a5d9e9e5",
   "metadata": {},
   "outputs": [],
   "source": []
  }
 ],
 "metadata": {
  "kernelspec": {
   "display_name": "Python 3 (ipykernel)",
   "language": "python",
   "name": "python3"
  },
  "language_info": {
   "codemirror_mode": {
    "name": "ipython",
    "version": 3
   },
   "file_extension": ".py",
   "mimetype": "text/x-python",
   "name": "python",
   "nbconvert_exporter": "python",
   "pygments_lexer": "ipython3",
   "version": "3.10.11"
  }
 },
 "nbformat": 4,
 "nbformat_minor": 5
}
