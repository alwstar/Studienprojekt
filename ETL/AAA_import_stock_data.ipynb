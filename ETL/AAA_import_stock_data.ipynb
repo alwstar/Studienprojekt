{
 "cells": [
  {
   "cell_type": "code",
   "execution_count": 19,
   "id": "7fdaf07e",
   "metadata": {},
   "outputs": [
    {
     "name": "stdout",
     "output_type": "stream",
     "text": [
      "[*********************100%***********************]  1 of 1 completed\n",
      "Daten wurden erfolgreich in die SQL-Tabelle eingefügt.\n"
     ]
    }
   ],
   "source": [
    "import pyodbc\n",
    "import yfinance as yf\n",
    "import pandas as pd\n",
    "import warnings\n",
    "warnings.filterwarnings('ignore', 'pandas only supports SQLAlchemy connectable')\n",
    "\n",
    "\n",
    "# Verbindungsstring\n",
    "conn_str = (\n",
    "    r'Driver=SQL Server;'\n",
    "    r'Server=.\\SQLEXPRESS;'\n",
    "    r'Database=studienprojekt;'\n",
    "    r'Trusted_Connection=yes;'\n",
    ")\n",
    "\n",
    "# Verbindung zur Datenbank herstellen\n",
    "cnxn = pyodbc.connect(conn_str)\n",
    "cursor = cnxn.cursor()\n",
    "\n",
    "# Tabelle prüfen\n",
    "table_name = \"stock_data\"  # Name der Zieltabelle\n",
    "start_date = \"2016-01-01\"  # Startdatum, ab dem Daten überprüft werden sollen\n",
    "end_date = \"2023-07-07\"  # Enddatum, bis zu dem Daten überprüft werden sollen\n",
    "\n",
    "# Daten aus der Tabelle in einen DataFrame laden\n",
    "select_query = f\"SELECT * FROM {table_name}\"\n",
    "df_existing_data = pd.read_sql(select_query, cnxn)\n",
    "\n",
    "# Ticker-Symbol definieren\n",
    "ticker_symbol = \"AAPL\"\n",
    "\n",
    "# Daten von yfinance abrufen\n",
    "stock_data = yf.download(ticker_symbol, start=start_date, end=end_date)\n",
    "\n",
    "# Datenverarbeitung\n",
    "stock_data.reset_index(inplace=True)\n",
    "stock_data.rename(columns={'Date': 'Date'}, inplace=True)\n",
    "stock_data['Date'] = pd.to_datetime(stock_data['Date'])\n",
    "\n",
    "# Daten nur einfügen, wenn sie noch nicht vorhanden sind\n",
    "for _, row in stock_data.iterrows():\n",
    "    timestamp = row['Date']\n",
    "    existing_row = df_existing_data[(df_existing_data['Date'] == timestamp) & (df_existing_data['Company'] == ticker_symbol)]\n",
    "    if existing_row.empty:\n",
    "        # Daten in die Tabelle einfügen\n",
    "        insert_query = f\"INSERT INTO {table_name} ([Date], [Company], [Type], [Open], [High], [Low], [Close], [Volume]) VALUES (?, ?, ?, ?, ?, ?, ?, ?)\"\n",
    "        cursor.execute(insert_query, timestamp, ticker_symbol, \"ACT\", row['Open'], row['High'], row['Low'], row['Close'], row['Volume'])\n",
    "\n",
    "# Änderungen in der Datenbank übernehmen\n",
    "cnxn.commit()\n",
    "\n",
    "print(\"Daten wurden erfolgreich in die SQL-Tabelle eingefügt.\")\n"
   ]
  },
  {
   "cell_type": "code",
   "execution_count": null,
   "id": "5ae12a8c",
   "metadata": {},
   "outputs": [],
   "source": []
  },
  {
   "cell_type": "code",
   "execution_count": null,
   "id": "0ae87e6b",
   "metadata": {},
   "outputs": [],
   "source": []
  }
 ],
 "metadata": {
  "kernelspec": {
   "display_name": "Python 3 (ipykernel)",
   "language": "python",
   "name": "python3"
  },
  "language_info": {
   "codemirror_mode": {
    "name": "ipython",
    "version": 3
   },
   "file_extension": ".py",
   "mimetype": "text/x-python",
   "name": "python",
   "nbconvert_exporter": "python",
   "pygments_lexer": "ipython3",
   "version": "3.10.11"
  }
 },
 "nbformat": 4,
 "nbformat_minor": 5
}
